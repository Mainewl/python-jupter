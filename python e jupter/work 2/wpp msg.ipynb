{
 "cells": [
  {
   "cell_type": "code",
   "execution_count": 30,
   "metadata": {},
   "outputs": [
    {
     "data": {
      "text/html": [
       "<div>\n",
       "<style scoped>\n",
       "    .dataframe tbody tr th:only-of-type {\n",
       "        vertical-align: middle;\n",
       "    }\n",
       "\n",
       "    .dataframe tbody tr th {\n",
       "        vertical-align: top;\n",
       "    }\n",
       "\n",
       "    .dataframe thead th {\n",
       "        text-align: right;\n",
       "    }\n",
       "</style>\n",
       "<table border=\"1\" class=\"dataframe\">\n",
       "  <thead>\n",
       "    <tr style=\"text-align: right;\">\n",
       "      <th></th>\n",
       "      <th>PESSOA</th>\n",
       "      <th>NUMERO</th>\n",
       "      <th>MENSSAGEM</th>\n",
       "    </tr>\n",
       "  </thead>\n",
       "  <tbody>\n",
       "    <tr>\n",
       "      <th>0</th>\n",
       "      <td>Vito</td>\n",
       "      <td>554899467962</td>\n",
       "      <td>RESPEITA A LULU SEU PANACA</td>\n",
       "    </tr>\n",
       "    <tr>\n",
       "      <th>1</th>\n",
       "      <td>Nica</td>\n",
       "      <td>554792039581</td>\n",
       "      <td>HM É MESMO</td>\n",
       "    </tr>\n",
       "    <tr>\n",
       "      <th>2</th>\n",
       "      <td>Piru</td>\n",
       "      <td>5548998124413</td>\n",
       "      <td>A LAMINA</td>\n",
       "    </tr>\n",
       "  </tbody>\n",
       "</table>\n",
       "</div>"
      ],
      "text/plain": [
       "  PESSOA         NUMERO                  MENSSAGEM \n",
       "0   Vito   554899467962  RESPEITA A LULU SEU PANACA\n",
       "1   Nica   554792039581                  HM É MESMO\n",
       "2   Piru  5548998124413                    A LAMINA"
      ]
     },
     "execution_count": 30,
     "metadata": {},
     "output_type": "execute_result"
    }
   ],
   "source": [
    "import pandas as pd\n",
    "port = pd.read_excel('C:/Users/APRENDER/Desktop/A2B8A000.xlsx')\n",
    "port\n"
   ]
  },
  {
   "cell_type": "code",
   "execution_count": null,
   "metadata": {},
   "outputs": [],
   "source": [
    "from selenium import webdriver \n",
    "from selenium.webdriver.common.keys import Keys\n",
    "import time\n",
    "import urllib\n",
    "\n",
    "\n",
    "nav = webdriver.Chrome()\n",
    "nav.get(\"https://web.whatsapp.com/\")\n",
    "\n",
    "while len(nav.find_element_by_id(\"side\")) <1:\n",
    "    time.sleep(1)\n",
    "\n",
    "for i, mensagem in enumerate (port['MENSSAGEM']):\n",
    "    pessoa = port.loc[i, \"PESSOA\"]\n",
    "    numero = port.loc[i, \"NUMERO\"]\n",
    "    texto = urllib.parse.quote(f\"Oi {pessoa}! {mensagem}\")\n",
    "    link = f\"https://web.whatsapp.com/send?phone={numero}&text={texto}\"\n",
    "    nav.get(link)\n",
    "    while len(nav.find_element_by_id(\"side\")) <1:\n",
    "        time.sleep(1)\n",
    "        \n"
   ]
  },
  {
   "cell_type": "code",
   "execution_count": 23,
   "metadata": {},
   "outputs": [],
   "source": [
    "nav.quit()"
   ]
  }
 ],
 "metadata": {
  "interpreter": {
   "hash": "aa3a5d638b3f7b57065b1810276112e86097c5904546b63fb8fcb21a16f05225"
  },
  "kernelspec": {
   "display_name": "Python 3.8.6 64-bit",
   "language": "python",
   "name": "python3"
  },
  "language_info": {
   "codemirror_mode": {
    "name": "ipython",
    "version": 3
   },
   "file_extension": ".py",
   "mimetype": "text/x-python",
   "name": "python",
   "nbconvert_exporter": "python",
   "pygments_lexer": "ipython3",
   "version": "3.8.6"
  },
  "orig_nbformat": 4
 },
 "nbformat": 4,
 "nbformat_minor": 2
}

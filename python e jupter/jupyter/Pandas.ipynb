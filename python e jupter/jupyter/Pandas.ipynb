{
 "cells": [
  {
   "cell_type": "code",
   "execution_count": 1,
   "metadata": {},
   "outputs": [],
   "source": [
    "import pandas\n",
    "import datetime\n"
   ]
  },
  {
   "cell_type": "code",
   "execution_count": null,
   "metadata": {},
   "outputs": [],
   "source": [
    "Infos = {'Nome':['Carlos', 'Tiago', 'Pedro', 'Robinson', 'Douglas', 'Uelintom', 'Ulices', 'Ueslei', 'Uebertom', 'William', 'Paulo'],\n",
    "        'Localização': ['Pedra Branca', 'Pinheira', 'Palhoça', 'Aririu', 'Floripa', 'Floripa', 'Palhoça', 'Pinheira', 'Aririu', 'Pedra Branca', 'Palhoça'],\n",
    "            'Transporte': ['Moto', 'Carro', 'Onibus', 'Bicicleta', 'Moto', 'Carro', 'Carro', 'Moto', 'Onibus', 'Carro', 'Moto'],\n",
    "                'Horario': ['9', '8', '7', '6', '10', '9', '8', '9', '10', '7', '9'],\n",
    "                 'Idade': ['21', '25', '19', '23', '27', '20', '26','25', '19', '21', '28' ],\n",
    "                     'Altura': ['1,86', '1,80', '1,84', '1,87', '1,98', '1,91', '1,75', '1,79', '1,93', '1,87', '1,86']}\n",
    "\n",
    "Dp = pandas.DataFrame(Infos)\n",
    "\n",
    "print(Dp)"
   ]
  },
  {
   "cell_type": "code",
   "execution_count": null,
   "metadata": {},
   "outputs": [],
   "source": [
    "Df = pandas.read_excel (r\"C:\\\\Users\\\\APRENDER\\\\Desktop\\\\Compartilhada\\\\Manoel Henrique\\\\arquivoteste2.xlsx\")\n",
    "\n",
    "# Filtrar numeros \n",
    "inf = Df['Idade'] > 24\n",
    "\n",
    "print(inf[Df])\n",
    "\n"
   ]
  },
  {
   "cell_type": "code",
   "execution_count": null,
   "metadata": {},
   "outputs": [],
   "source": [
    "Df2 = pandas.read_excel (r\"C:\\\\Users\\\\APRENDER\\\\Desktop\\\\Compartilhada\\\\Manoel Henrique\\\\arquivoteste2.xlsx\")\n",
    "\n",
    "# Filtrar nomes\n",
    "\n",
    "drop = Df2.loc[Df2['Transporte'].str.contains('Carro')]\n",
    "\n",
    "drop"
   ]
  },
  {
   "cell_type": "code",
   "execution_count": 47,
   "metadata": {},
   "outputs": [
    {
     "name": "stdout",
     "output_type": "stream",
     "text": [
      "        Nome   Localização Transporte  Horario    Idade   Altura\n",
      "0     Carlos  Pedra Branca       Moto        9       21     1.86\n",
      "1      Tiago      Pinheira      Carro        8       25      1.8\n",
      "2      Pedro       Palhoça     Onibus        7       19     1.84\n",
      "3   Robinson        Aririu       Moto        6       23     1.86\n",
      "4    Douglas       Floripa      Carro        8       27     1.87\n",
      "5   Uelintom  Pedra Branca     Onibus        9       20     1.98\n",
      "6     Ueslei      Pinheira     Onibus        7       19     1.91\n",
      "7   Uebertom        Aririu  Bicicleta       10       26     1.75\n",
      "8     Ulices       Palhoça      Carro        8       27     1.79\n",
      "9    William       Palhoça       Moto        7       26     1.93\n",
      "10     Paulo       Floripa      Carro        9       21     1.86\n",
      "11     Teste          mart      Nuvem        1        2        3\n",
      "12    Lizard         Swamp      Swing        4        5        6\n",
      "13     Test2          Tera      Test4     Nine    Test9   Weight\n",
      "14       Arf         Test6      Jelly    Test7    Eight    Test8\n",
      "15        Ar  Condicionado    Teste12  Teste10  Teste11  Teste13\n"
     ]
    }
   ],
   "source": [
    "#retirar valores NaN, TODOS OS VALORES\n",
    "\n",
    "nam_df = Df[Df.isna().any(axis=1)]\n",
    "nam_df.head()\n",
    "\n",
    "nam_df = Df.dropna(how='any')\n",
    "# nam_df = Df.dropna(thresh=3) \n",
    "\n",
    "\n",
    "print(nam_df)"
   ]
  }
 ],
 "metadata": {
  "interpreter": {
   "hash": "aa3a5d638b3f7b57065b1810276112e86097c5904546b63fb8fcb21a16f05225"
  },
  "kernelspec": {
   "display_name": "Python 3.8.6 64-bit",
   "language": "python",
   "name": "python3"
  },
  "language_info": {
   "codemirror_mode": {
    "name": "ipython",
    "version": 3
   },
   "file_extension": ".py",
   "mimetype": "text/x-python",
   "name": "python",
   "nbconvert_exporter": "python",
   "pygments_lexer": "ipython3",
   "version": "3.8.6"
  },
  "orig_nbformat": 4
 },
 "nbformat": 4,
 "nbformat_minor": 2
}

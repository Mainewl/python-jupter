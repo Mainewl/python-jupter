{
 "cells": [
  {
   "cell_type": "code",
   "execution_count": 18,
   "metadata": {},
   "outputs": [],
   "source": [
    "import os, sys\n",
    "cwd = os.getcwd()\n",
    "libs_path = cwd[:cwd.rfind('CODES')+5] + r\"\\LIBS\"\n",
    "sys.path.append(libs_path)\n",
    "from EG_LIB import *\n",
    "from EG_LIB_2 import *\n",
    "import pandas as pd\n",
    "from datetime import date, timedelta"
   ]
  },
  {
   "cell_type": "code",
   "execution_count": 2,
   "metadata": {},
   "outputs": [],
   "source": [
    "eg_bots_dir = cwd[:cwd.rfind('EG_BOTS')+7]\n",
    "data_dir = eg_bots_dir + r'\\DATA_FOLDER\\EXCEL_FILES'"
   ]
  },
  {
   "cell_type": "code",
   "execution_count": 3,
   "metadata": {},
   "outputs": [],
   "source": [
    "cronog_path = data_dir + r'\\CRONOGRAMA_ATUAL'\n",
    "cronog_name = 'cronograma.xlsx'\n",
    "cronog_fpath = f'{cronog_path}\\\\{cronog_name}'\n",
    "cronog_df = pd.read_excel(cronog_fpath, header=None)"
   ]
  },
  {
   "cell_type": "code",
   "execution_count": 4,
   "metadata": {},
   "outputs": [],
   "source": [
    "df0 = cronog_df\n",
    "df0 = df0.fillna('-')"
   ]
  },
  {
   "cell_type": "code",
   "execution_count": 97,
   "metadata": {},
   "outputs": [],
   "source": [
    "sem1_ic_lst = []\n",
    "for idx in df0.index:\n",
    "    for col in df0.columns:\n",
    "        val = df0.loc[idx, col]\n",
    "        if val == 'SEMANA 1':\n",
    "            sem1_ic_lst.append((idx, col))\n",
    "del cronog_df\n",
    "del df0"
   ]
  },
  {
   "cell_type": "code",
   "execution_count": 6,
   "metadata": {},
   "outputs": [
    {
     "data": {
      "text/plain": [
       "239"
      ]
     },
     "execution_count": 6,
     "metadata": {},
     "output_type": "execute_result"
    }
   ],
   "source": [
    "len(sem1_ic_lst)"
   ]
  },
  {
   "cell_type": "code",
   "execution_count": 91,
   "metadata": {},
   "outputs": [
    {
     "data": {
      "text/plain": [
       "(22, 7)"
      ]
     },
     "execution_count": 91,
     "metadata": {},
     "output_type": "execute_result"
    }
   ],
   "source": [
    "sem1_ic_lst[0]"
   ]
  },
  {
   "cell_type": "code",
   "execution_count": 7,
   "metadata": {},
   "outputs": [],
   "source": [
    "mes_dict = {\n",
    "    'JANEIRO': 1, 'FEVEREIRO': 2, 'MARÇO': 3, 'ABRIL': 4, 'MAIO': 5, 'JUNHO': 6,\n",
    "    'JULHO': 7, 'AGOSTO': 8, 'SETEMBRO': 9, 'OUTUBRO': 10, 'NOVEMBRO': 11, 'DEZEMBRO': 12\n",
    "    }"
   ]
  },
  {
   "cell_type": "code",
   "execution_count": 16,
   "metadata": {},
   "outputs": [],
   "source": [
    "op_stdt_dict = {}\n",
    "for ic in sem1_ic_lst:\n",
    "    idx = ic[0]\n",
    "    op = df0.loc[idx, 0]\n",
    "    while op == '-':\n",
    "        idx += 1\n",
    "        op = df0.loc[idx, 0]\n",
    "    try:\n",
    "        op.replace('\\n', ' ')\n",
    "    except:\n",
    "        op = str(op)\n",
    "    op = ' '.join(op.split())\n",
    "    \n",
    "    col = ic[1]\n",
    "    dia = int(df0.loc[1, col])\n",
    "    mes = df0.loc[0, col]\n",
    "    while mes == '-':\n",
    "        col -= 1\n",
    "        mes = df0.loc[0, col]\n",
    "    if type(mes) == str:\n",
    "        ano = 2021\n",
    "        mes = mes_dict[mes]\n",
    "    else:\n",
    "        ano = mes.year\n",
    "        mes = mes.month\n",
    "    \n",
    "    st_dt = date(ano, mes, dia)\n",
    "    \n",
    "    op_stdt_dict[op] = st_dt"
   ]
  },
  {
   "cell_type": "code",
   "execution_count": 24,
   "metadata": {},
   "outputs": [],
   "source": [
    "today = date.today()\n",
    "next_week = today + timedelta(weeks=1)"
   ]
  },
  {
   "cell_type": "code",
   "execution_count": 26,
   "metadata": {},
   "outputs": [
    {
     "name": "stdout",
     "output_type": "stream",
     "text": [
      "30 1647 2022-05-02\n",
      "40137 HT 2022-05-04\n",
      "660 - 31 FLY 2022-04-27\n"
     ]
    }
   ],
   "source": [
    "for op, stdt in op_stdt_dict.items():\n",
    "    if stdt >= today and stdt <= next_week:\n",
    "        print(op, stdt)"
   ]
  }
 ],
 "metadata": {
  "interpreter": {
   "hash": "aa3a5d638b3f7b57065b1810276112e86097c5904546b63fb8fcb21a16f05225"
  },
  "kernelspec": {
   "display_name": "Python 3.8.6 64-bit",
   "language": "python",
   "name": "python3"
  },
  "language_info": {
   "codemirror_mode": {
    "name": "ipython",
    "version": 3
   },
   "file_extension": ".py",
   "mimetype": "text/x-python",
   "name": "python",
   "nbconvert_exporter": "python",
   "pygments_lexer": "ipython3",
   "version": "3.8.6"
  },
  "orig_nbformat": 4
 },
 "nbformat": 4,
 "nbformat_minor": 2
}

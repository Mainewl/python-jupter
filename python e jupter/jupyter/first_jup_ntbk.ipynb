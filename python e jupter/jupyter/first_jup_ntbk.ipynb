{
 "cells": [
  {
   "cell_type": "code",
   "execution_count": 12,
   "metadata": {},
   "outputs": [],
   "source": [
    "import smtplib"
   ]
  },
  {
   "cell_type": "code",
   "execution_count": 13,
   "metadata": {},
   "outputs": [],
   "source": [
    "email = \"manonhaas.s2@gmail.com\"\n",
    "receeiver_address = \"manonha.s2@hotmail.com\"\n",
    "senha = \"fmyoukbquxxfkzgx\""
   ]
  },
  {
   "cell_type": "code",
   "execution_count": 14,
   "metadata": {},
   "outputs": [],
   "source": [
    "subject = \"codigo funcionando\"\n",
    "body = \"Fazendo um teste pra ver como fica esse email \\n\\ndessa vez usando o jupyter pra realizar a montagem do code\"\n"
   ]
  },
  {
   "cell_type": "code",
   "execution_count": 15,
   "metadata": {},
   "outputs": [
    {
     "data": {
      "text/plain": [
       "(235, b'2.7.0 Accepted')"
      ]
     },
     "execution_count": 15,
     "metadata": {},
     "output_type": "execute_result"
    }
   ],
   "source": [
    "smtp_server=smtplib.SMTP_SSL(\"smtp.gmail.com\", 465)\n",
    "smtp_server.login(\"manonhaas.s2@gmail.com\", \"fmyoukbquxxfkzgx\")"
   ]
  },
  {
   "cell_type": "code",
   "execution_count": 16,
   "metadata": {},
   "outputs": [],
   "source": [
    "message = f\"subject: {subject}\\n\\n{body}\"\n",
    "\n",
    "smtp_server.sendmail(email, receeiver_address, message)\n",
    "\n",
    "smtp_server.close()"
   ]
  }
 ],
 "metadata": {
  "interpreter": {
   "hash": "aa3a5d638b3f7b57065b1810276112e86097c5904546b63fb8fcb21a16f05225"
  },
  "kernelspec": {
   "display_name": "Python 3.8.6 64-bit",
   "language": "python",
   "name": "python3"
  },
  "language_info": {
   "codemirror_mode": {
    "name": "ipython",
    "version": 3
   },
   "file_extension": ".py",
   "mimetype": "text/x-python",
   "name": "python",
   "nbconvert_exporter": "python",
   "pygments_lexer": "ipython3",
   "version": "3.8.6"
  },
  "orig_nbformat": 4
 },
 "nbformat": 4,
 "nbformat_minor": 2
}

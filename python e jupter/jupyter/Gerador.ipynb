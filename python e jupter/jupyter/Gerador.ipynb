{
 "cells": [
  {
   "cell_type": "code",
   "execution_count": 1,
   "metadata": {},
   "outputs": [],
   "source": [
    "import tkinter\n",
    "import random, string\n",
    "import pyperclip"
   ]
  },
  {
   "cell_type": "code",
   "execution_count": 2,
   "metadata": {},
   "outputs": [
    {
     "data": {
      "text/plain": [
       "''"
      ]
     },
     "execution_count": 2,
     "metadata": {},
     "output_type": "execute_result"
    }
   ],
   "source": [
    "root =tkinter.Tk()\n",
    "root.geometry(\"500x500\") \n",
    "root.title(\"Gerador de Senhas Aleatório\")"
   ]
  },
  {
   "cell_type": "code",
   "execution_count": 3,
   "metadata": {},
   "outputs": [],
   "source": [
    "output_pass = tkinter.StringVar()\n",
    "all_combi = [string.punctuation, string.ascii_uppercase, string.digits, string.ascii_lowercase]  "
   ]
  },
  {
   "cell_type": "code",
   "execution_count": 4,
   "metadata": {},
   "outputs": [],
   "source": [
    "def randPassGen():\n",
    "    password = \"\" \n",
    "    for y in range(pass_len.get()):\n",
    "        char_type = random.choice(all_combi)   \n",
    "        password = password + random.choice(char_type)\n",
    "     \n",
    "    output_pass.set(password)"
   ]
  },
  {
   "cell_type": "code",
   "execution_count": 5,
   "metadata": {},
   "outputs": [],
   "source": [
    "def copyPass():\n",
    "    pyperclip.copy(output_pass.get())"
   ]
  },
  {
   "cell_type": "code",
   "execution_count": 6,
   "metadata": {},
   "outputs": [],
   "source": [
    "pass_head = tkinter.Label(root, text = 'Tamanho da Senha', font = 'arial 12 bold').pack(pady=10) \n",
    " \n",
    "pass_len = tkinter.IntVar() \n",
    "length = tkinter.Spinbox(root, from_ = 6, to_ = 42 , textvariable = pass_len , width = 24, font='arial 16').pack()\n",
    "\n",
    "tkinter.Button(root, command = randPassGen, text = \"Gerar Senha\", font=\"Arial 10\", bg='lightblue', fg='black', activebackground=\"teal\", padx=5, pady=5 ).pack(pady= 20)\n",
    " \n",
    "pass_label = tkinter.Label(root, text = 'Senha Gerada', font = 'arial 12 bold').pack(pady=\"30 10\")\n",
    "tkinter.Entry(root , textvariable = output_pass, width = 24, font='arial 16').pack()\n",
    " \n",
    "tkinter.Button(root, text = 'Copiar', command = copyPass, font=\"Arial 10\", bg='lightblue', fg='black', activebackground=\"teal\", padx=5, pady=5 ).pack(pady= 20)\n",
    " \n",
    "root.mainloop() "
   ]
  }
 ],
 "metadata": {
  "interpreter": {
   "hash": "aa3a5d638b3f7b57065b1810276112e86097c5904546b63fb8fcb21a16f05225"
  },
  "kernelspec": {
   "display_name": "Python 3.8.6 64-bit",
   "language": "python",
   "name": "python3"
  },
  "language_info": {
   "codemirror_mode": {
    "name": "ipython",
    "version": 3
   },
   "file_extension": ".py",
   "mimetype": "text/x-python",
   "name": "python",
   "nbconvert_exporter": "python",
   "pygments_lexer": "ipython3",
   "version": "3.8.6"
  },
  "orig_nbformat": 4
 },
 "nbformat": 4,
 "nbformat_minor": 2
}

{
 "cells": [
  {
   "cell_type": "code",
   "execution_count": 3,
   "metadata": {},
   "outputs": [],
   "source": [
    "import numpy as np\n",
    "from tkinter import *\n",
    "from PIL import Image, ImageTk"
   ]
  },
  {
   "cell_type": "code",
   "execution_count": 4,
   "metadata": {},
   "outputs": [],
   "source": [
    "def coinFlip():\n",
    "    result = np.random.binomial(1,0.5)\n",
    "    tfield.delete(\"1.0\", \"end\")\n",
    " \n",
    "    if(result == 1):\n",
    "        tfield.insert(INSERT, \" It's ————> HEADS\")\n",
    "        i.config(image = heads)\n",
    "         \n",
    "    else:\n",
    "        tfield.insert(INSERT, \" It's ————> TAILS\")\n",
    "        i.config(image = tails)"
   ]
  },
  {
   "cell_type": "code",
   "execution_count": 5,
   "metadata": {},
   "outputs": [
    {
     "data": {
      "text/plain": [
       "''"
      ]
     },
     "execution_count": 5,
     "metadata": {},
     "output_type": "execute_result"
    }
   ],
   "source": [
    "root = Tk()\n",
    "root.title(\"Python Coin Flip\")"
   ]
  },
  {
   "cell_type": "code",
   "execution_count": 6,
   "metadata": {},
   "outputs": [],
   "source": [
    "load = Image.open(\"cara.jpg\")\n",
    "heads = ImageTk.PhotoImage(load)\n",
    "\n",
    "load = Image.open(\"coroa.jpg\")\n",
    "tails = ImageTk.PhotoImage(load)"
   ]
  },
  {
   "cell_type": "code",
   "execution_count": 7,
   "metadata": {},
   "outputs": [],
   "source": [
    "i = Label(root, image=heads)\n",
    "i.pack()\n",
    " \n",
    "root.geometry(\"500x500\")\n",
    "b1 = Button(root, text=\"Toss the Coin\", font=(\"Arial\", 10), command=coinFlip, bg='teal', fg='white', activebackground=\"lightblue\", padx=10, pady=10)\n",
    "b1.pack()"
   ]
  },
  {
   "cell_type": "code",
   "execution_count": 8,
   "metadata": {},
   "outputs": [],
   "source": [
    "tfield = Text(root, width=52, height=5)\n",
    "tfield.pack()\n",
    "tfield.insert(INSERT, \"Click on the Button.. To Flip the Coin and get the result\")\n",
    "\n",
    "root.mainloop()"
   ]
  }
 ],
 "metadata": {
  "interpreter": {
   "hash": "aa3a5d638b3f7b57065b1810276112e86097c5904546b63fb8fcb21a16f05225"
  },
  "kernelspec": {
   "display_name": "Python 3.8.6 64-bit",
   "language": "python",
   "name": "python3"
  },
  "language_info": {
   "codemirror_mode": {
    "name": "ipython",
    "version": 3
   },
   "file_extension": ".py",
   "mimetype": "text/x-python",
   "name": "python",
   "nbconvert_exporter": "python",
   "pygments_lexer": "ipython3",
   "version": "3.8.6"
  },
  "orig_nbformat": 4
 },
 "nbformat": 4,
 "nbformat_minor": 2
}

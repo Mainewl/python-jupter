{
 "cells": [
  {
   "cell_type": "code",
   "execution_count": 1,
   "metadata": {},
   "outputs": [],
   "source": [
    "from base64 import decode\n",
    "import imaplib \n",
    "import email"
   ]
  },
  {
   "cell_type": "code",
   "execution_count": 2,
   "metadata": {},
   "outputs": [
    {
     "data": {
      "text/plain": [
       "('OK', [b'manonhaas.s2@gmail.com authenticated (Success)'])"
      ]
     },
     "execution_count": 2,
     "metadata": {},
     "output_type": "execute_result"
    }
   ],
   "source": [
    "#log\n",
    "Imap = imaplib.IMAP4_SSL(\"imap.gmail.com\")\n",
    "ema = \"manonhaas.s2@gmail.com\"\n",
    "sena = \"fmyoukbquxxfkzgx\"\n",
    "Imap.login(\"manonhaas.s2@gmail.com\", \"fmyoukbquxxfkzgx\")"
   ]
  },
  {
   "cell_type": "code",
   "execution_count": 3,
   "metadata": {},
   "outputs": [
    {
     "data": {
      "text/plain": [
       "('OK', [b'55'])"
      ]
     },
     "execution_count": 3,
     "metadata": {},
     "output_type": "execute_result"
    }
   ],
   "source": [
    "#emailselec\n",
    "Imap.select(mailbox='Inbox', readonly=True)"
   ]
  },
  {
   "cell_type": "code",
   "execution_count": 4,
   "metadata": {},
   "outputs": [],
   "source": [
    "#mail ids/ local para filtrar os emails (aprender a usar)\n",
    "response, emailid = Imap.search(None,\"All\")\n",
    "    #print(emailid)"
   ]
  },
  {
   "cell_type": "code",
   "execution_count": 5,
   "metadata": {},
   "outputs": [],
   "source": [
    "#loop\n",
    "for num in emailid[0].split():\n",
    "    #print(num)\n",
    "\n",
    "    #fetch\n",
    "\n",
    "    response, dados = Imap.fetch (num, '(RFC822)')\n",
    "    \n",
    "    #print(dados)\n",
    "    \n",
    "    #decoder\n",
    "\n",
    "    emailtext = dados[0][1]\n",
    "    emailtext = emailtext.decode('utf-8')\n",
    "    emailtext = email.message_from_string(emailtext)\n",
    "\n",
    "    # print(emailtext)"
   ]
  },
  {
   "cell_type": "code",
   "execution_count": 6,
   "metadata": {},
   "outputs": [
    {
     "name": "stdout",
     "output_type": "stream",
     "text": [
      "A2B8A000.xlsx\n"
     ]
    }
   ],
   "source": [
    "#loop2\n",
    "for part in emailtext.walk():\n",
    "\n",
    "    #anexo check\n",
    "    if part.get_content_maintype() == 'multipart':\n",
    "        continue\n",
    "    if part.get('Content-Disposition') is None:\n",
    "        continue\n",
    "    filename = part.get_filename()\n",
    "    print(filename)\n"
   ]
  },
  {
   "cell_type": "code",
   "execution_count": 8,
   "metadata": {},
   "outputs": [
    {
     "data": {
      "text/plain": [
       "10353"
      ]
     },
     "execution_count": 8,
     "metadata": {},
     "output_type": "execute_result"
    }
   ],
   "source": [
    "archive = open(filename, 'wb')\n",
    "archive.write(part.get_payload(decode=True))"
   ]
  },
  {
   "cell_type": "code",
   "execution_count": 9,
   "metadata": {},
   "outputs": [
    {
     "data": {
      "text/plain": [
       "<function BufferedWriter.close>"
      ]
     },
     "execution_count": 9,
     "metadata": {},
     "output_type": "execute_result"
    }
   ],
   "source": [
    "archive.close"
   ]
  }
 ],
 "metadata": {
  "interpreter": {
   "hash": "aa3a5d638b3f7b57065b1810276112e86097c5904546b63fb8fcb21a16f05225"
  },
  "kernelspec": {
   "display_name": "Python 3.8.6 64-bit",
   "language": "python",
   "name": "python3"
  },
  "language_info": {
   "codemirror_mode": {
    "name": "ipython",
    "version": 3
   },
   "file_extension": ".py",
   "mimetype": "text/x-python",
   "name": "python",
   "nbconvert_exporter": "python",
   "pygments_lexer": "ipython3",
   "version": "3.8.6"
  },
  "orig_nbformat": 4
 },
 "nbformat": 4,
 "nbformat_minor": 2
}
